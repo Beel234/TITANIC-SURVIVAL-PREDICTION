{
 "cells": [
  {
   "cell_type": "code",
   "execution_count": 1,
   "metadata": {},
   "outputs": [],
   "source": [
    "import pandas as pd\n",
    "import numpy as np\n",
    "import matplotlib.pyplot as plt\n",
    "%matplotlib inline"
   ]
  },
  {
   "cell_type": "code",
   "execution_count": 2,
   "metadata": {},
   "outputs": [],
   "source": [
    "train_data = pd.read_csv('train.csv')\n",
    "train = train_data.copy()\n",
    "\n",
    "test_data = pd.read_csv('test.csv')\n",
    "test = test_data.copy()"
   ]
  },
  {
   "cell_type": "code",
   "execution_count": 3,
   "metadata": {},
   "outputs": [
    {
     "name": "stdout",
     "output_type": "stream",
     "text": [
      "Index(['traveller_ID', 'ticket_class', 'name', 'sex', 'age',\n",
      "       'Siblings_spouses', 'Parchil', 'TickNum', 'fare', 'cabin', 'embarked',\n",
      "       'MedBoat', 'Survived'],\n",
      "      dtype='object')\n",
      "(916, 13)\n",
      "Index(['traveller_ID', 'ticket_class', 'name', 'sex', 'age',\n",
      "       'Siblings_spouses', 'Parchil', 'TickNum', 'fare', 'cabin', 'embarked',\n",
      "       'MedBoat'],\n",
      "      dtype='object')\n",
      "(393, 12)\n"
     ]
    }
   ],
   "source": [
    "print(train.columns)\n",
    "print( train.shape)\n",
    "\n",
    "print(test.columns)\n",
    "print( test.shape)"
   ]
  },
  {
   "cell_type": "code",
   "execution_count": 4,
   "metadata": {},
   "outputs": [],
   "source": [
    "datasets = [train, test]\n",
    "for dataset in datasets:\n",
    "    train_desc_cat = datasets[0].describe(include =['object'])\n",
    "    test_desc_cat = datasets[1].describe(include =['object'])\n",
    "    train_desc_num = datasets[0].describe()\n",
    "    test_desc_num = datasets[1].describe()\n"
   ]
  },
  {
   "cell_type": "code",
   "execution_count": 5,
   "metadata": {},
   "outputs": [
    {
     "data": {
      "text/html": [
       "<div>\n",
       "<style scoped>\n",
       "    .dataframe tbody tr th:only-of-type {\n",
       "        vertical-align: middle;\n",
       "    }\n",
       "\n",
       "    .dataframe tbody tr th {\n",
       "        vertical-align: top;\n",
       "    }\n",
       "\n",
       "    .dataframe thead th {\n",
       "        text-align: right;\n",
       "    }\n",
       "</style>\n",
       "<table border=\"1\" class=\"dataframe\">\n",
       "  <thead>\n",
       "    <tr style=\"text-align: right;\">\n",
       "      <th></th>\n",
       "      <th>traveller_ID</th>\n",
       "      <th>ticket_class</th>\n",
       "      <th>age</th>\n",
       "      <th>Siblings_spouses</th>\n",
       "      <th>Parchil</th>\n",
       "      <th>fare</th>\n",
       "      <th>Survived</th>\n",
       "    </tr>\n",
       "  </thead>\n",
       "  <tbody>\n",
       "    <tr>\n",
       "      <th>count</th>\n",
       "      <td>916.000000</td>\n",
       "      <td>916.000000</td>\n",
       "      <td>729.000000</td>\n",
       "      <td>916.000000</td>\n",
       "      <td>916.000000</td>\n",
       "      <td>915.000000</td>\n",
       "      <td>916.000000</td>\n",
       "    </tr>\n",
       "    <tr>\n",
       "      <th>mean</th>\n",
       "      <td>656.248908</td>\n",
       "      <td>2.305677</td>\n",
       "      <td>29.102309</td>\n",
       "      <td>0.539301</td>\n",
       "      <td>0.386463</td>\n",
       "      <td>33.709221</td>\n",
       "      <td>0.361354</td>\n",
       "    </tr>\n",
       "    <tr>\n",
       "      <th>std</th>\n",
       "      <td>381.176191</td>\n",
       "      <td>0.841811</td>\n",
       "      <td>13.866954</td>\n",
       "      <td>1.082188</td>\n",
       "      <td>0.893933</td>\n",
       "      <td>52.840656</td>\n",
       "      <td>0.480655</td>\n",
       "    </tr>\n",
       "    <tr>\n",
       "      <th>min</th>\n",
       "      <td>0.000000</td>\n",
       "      <td>1.000000</td>\n",
       "      <td>0.166700</td>\n",
       "      <td>0.000000</td>\n",
       "      <td>0.000000</td>\n",
       "      <td>0.000000</td>\n",
       "      <td>0.000000</td>\n",
       "    </tr>\n",
       "    <tr>\n",
       "      <th>25%</th>\n",
       "      <td>328.250000</td>\n",
       "      <td>2.000000</td>\n",
       "      <td>21.000000</td>\n",
       "      <td>0.000000</td>\n",
       "      <td>0.000000</td>\n",
       "      <td>7.925000</td>\n",
       "      <td>0.000000</td>\n",
       "    </tr>\n",
       "    <tr>\n",
       "      <th>50%</th>\n",
       "      <td>670.000000</td>\n",
       "      <td>3.000000</td>\n",
       "      <td>28.000000</td>\n",
       "      <td>0.000000</td>\n",
       "      <td>0.000000</td>\n",
       "      <td>14.500000</td>\n",
       "      <td>0.000000</td>\n",
       "    </tr>\n",
       "    <tr>\n",
       "      <th>75%</th>\n",
       "      <td>974.250000</td>\n",
       "      <td>3.000000</td>\n",
       "      <td>37.000000</td>\n",
       "      <td>1.000000</td>\n",
       "      <td>0.000000</td>\n",
       "      <td>31.275000</td>\n",
       "      <td>1.000000</td>\n",
       "    </tr>\n",
       "    <tr>\n",
       "      <th>max</th>\n",
       "      <td>1308.000000</td>\n",
       "      <td>3.000000</td>\n",
       "      <td>80.000000</td>\n",
       "      <td>8.000000</td>\n",
       "      <td>9.000000</td>\n",
       "      <td>512.329200</td>\n",
       "      <td>1.000000</td>\n",
       "    </tr>\n",
       "  </tbody>\n",
       "</table>\n",
       "</div>"
      ],
      "text/plain": [
       "       traveller_ID  ticket_class         age  Siblings_spouses     Parchil  \\\n",
       "count    916.000000    916.000000  729.000000        916.000000  916.000000   \n",
       "mean     656.248908      2.305677   29.102309          0.539301    0.386463   \n",
       "std      381.176191      0.841811   13.866954          1.082188    0.893933   \n",
       "min        0.000000      1.000000    0.166700          0.000000    0.000000   \n",
       "25%      328.250000      2.000000   21.000000          0.000000    0.000000   \n",
       "50%      670.000000      3.000000   28.000000          0.000000    0.000000   \n",
       "75%      974.250000      3.000000   37.000000          1.000000    0.000000   \n",
       "max     1308.000000      3.000000   80.000000          8.000000    9.000000   \n",
       "\n",
       "             fare    Survived  \n",
       "count  915.000000  916.000000  \n",
       "mean    33.709221    0.361354  \n",
       "std     52.840656    0.480655  \n",
       "min      0.000000    0.000000  \n",
       "25%      7.925000    0.000000  \n",
       "50%     14.500000    0.000000  \n",
       "75%     31.275000    1.000000  \n",
       "max    512.329200    1.000000  "
      ]
     },
     "execution_count": 5,
     "metadata": {},
     "output_type": "execute_result"
    }
   ],
   "source": [
    "train_desc_num"
   ]
  },
  {
   "cell_type": "code",
   "execution_count": 6,
   "metadata": {},
   "outputs": [
    {
     "data": {
      "text/html": [
       "<div>\n",
       "<style scoped>\n",
       "    .dataframe tbody tr th:only-of-type {\n",
       "        vertical-align: middle;\n",
       "    }\n",
       "\n",
       "    .dataframe tbody tr th {\n",
       "        vertical-align: top;\n",
       "    }\n",
       "\n",
       "    .dataframe thead th {\n",
       "        text-align: right;\n",
       "    }\n",
       "</style>\n",
       "<table border=\"1\" class=\"dataframe\">\n",
       "  <thead>\n",
       "    <tr style=\"text-align: right;\">\n",
       "      <th></th>\n",
       "      <th>traveller_ID</th>\n",
       "      <th>ticket_class</th>\n",
       "      <th>age</th>\n",
       "      <th>Siblings_spouses</th>\n",
       "      <th>Parchil</th>\n",
       "      <th>fare</th>\n",
       "    </tr>\n",
       "  </thead>\n",
       "  <tbody>\n",
       "    <tr>\n",
       "      <th>count</th>\n",
       "      <td>393.000000</td>\n",
       "      <td>393.000000</td>\n",
       "      <td>317.000000</td>\n",
       "      <td>393.000000</td>\n",
       "      <td>393.000000</td>\n",
       "      <td>393.000000</td>\n",
       "    </tr>\n",
       "    <tr>\n",
       "      <th>mean</th>\n",
       "      <td>648.758270</td>\n",
       "      <td>2.269720</td>\n",
       "      <td>31.672187</td>\n",
       "      <td>0.404580</td>\n",
       "      <td>0.381679</td>\n",
       "      <td>32.332188</td>\n",
       "    </tr>\n",
       "    <tr>\n",
       "      <th>std</th>\n",
       "      <td>370.986997</td>\n",
       "      <td>0.829017</td>\n",
       "      <td>15.472486</td>\n",
       "      <td>0.934967</td>\n",
       "      <td>0.796594</td>\n",
       "      <td>49.199401</td>\n",
       "    </tr>\n",
       "    <tr>\n",
       "      <th>min</th>\n",
       "      <td>10.000000</td>\n",
       "      <td>1.000000</td>\n",
       "      <td>0.416700</td>\n",
       "      <td>0.000000</td>\n",
       "      <td>0.000000</td>\n",
       "      <td>0.000000</td>\n",
       "    </tr>\n",
       "    <tr>\n",
       "      <th>25%</th>\n",
       "      <td>327.000000</td>\n",
       "      <td>2.000000</td>\n",
       "      <td>22.000000</td>\n",
       "      <td>0.000000</td>\n",
       "      <td>0.000000</td>\n",
       "      <td>7.895800</td>\n",
       "    </tr>\n",
       "    <tr>\n",
       "      <th>50%</th>\n",
       "      <td>618.000000</td>\n",
       "      <td>3.000000</td>\n",
       "      <td>30.000000</td>\n",
       "      <td>0.000000</td>\n",
       "      <td>0.000000</td>\n",
       "      <td>13.000000</td>\n",
       "    </tr>\n",
       "    <tr>\n",
       "      <th>75%</th>\n",
       "      <td>986.000000</td>\n",
       "      <td>3.000000</td>\n",
       "      <td>40.500000</td>\n",
       "      <td>1.000000</td>\n",
       "      <td>0.000000</td>\n",
       "      <td>31.275000</td>\n",
       "    </tr>\n",
       "    <tr>\n",
       "      <th>max</th>\n",
       "      <td>1301.000000</td>\n",
       "      <td>3.000000</td>\n",
       "      <td>74.000000</td>\n",
       "      <td>8.000000</td>\n",
       "      <td>6.000000</td>\n",
       "      <td>512.329200</td>\n",
       "    </tr>\n",
       "  </tbody>\n",
       "</table>\n",
       "</div>"
      ],
      "text/plain": [
       "       traveller_ID  ticket_class         age  Siblings_spouses     Parchil  \\\n",
       "count    393.000000    393.000000  317.000000        393.000000  393.000000   \n",
       "mean     648.758270      2.269720   31.672187          0.404580    0.381679   \n",
       "std      370.986997      0.829017   15.472486          0.934967    0.796594   \n",
       "min       10.000000      1.000000    0.416700          0.000000    0.000000   \n",
       "25%      327.000000      2.000000   22.000000          0.000000    0.000000   \n",
       "50%      618.000000      3.000000   30.000000          0.000000    0.000000   \n",
       "75%      986.000000      3.000000   40.500000          1.000000    0.000000   \n",
       "max     1301.000000      3.000000   74.000000          8.000000    6.000000   \n",
       "\n",
       "             fare  \n",
       "count  393.000000  \n",
       "mean    32.332188  \n",
       "std     49.199401  \n",
       "min      0.000000  \n",
       "25%      7.895800  \n",
       "50%     13.000000  \n",
       "75%     31.275000  \n",
       "max    512.329200  "
      ]
     },
     "execution_count": 6,
     "metadata": {},
     "output_type": "execute_result"
    }
   ],
   "source": [
    "test_desc_num"
   ]
  },
  {
   "cell_type": "code",
   "execution_count": 7,
   "metadata": {},
   "outputs": [
    {
     "data": {
      "text/html": [
       "<div>\n",
       "<style scoped>\n",
       "    .dataframe tbody tr th:only-of-type {\n",
       "        vertical-align: middle;\n",
       "    }\n",
       "\n",
       "    .dataframe tbody tr th {\n",
       "        vertical-align: top;\n",
       "    }\n",
       "\n",
       "    .dataframe thead th {\n",
       "        text-align: right;\n",
       "    }\n",
       "</style>\n",
       "<table border=\"1\" class=\"dataframe\">\n",
       "  <thead>\n",
       "    <tr style=\"text-align: right;\">\n",
       "      <th></th>\n",
       "      <th>name</th>\n",
       "      <th>sex</th>\n",
       "      <th>TickNum</th>\n",
       "      <th>cabin</th>\n",
       "      <th>embarked</th>\n",
       "      <th>MedBoat</th>\n",
       "    </tr>\n",
       "  </thead>\n",
       "  <tbody>\n",
       "    <tr>\n",
       "      <th>count</th>\n",
       "      <td>916</td>\n",
       "      <td>916</td>\n",
       "      <td>916</td>\n",
       "      <td>204</td>\n",
       "      <td>915</td>\n",
       "      <td>327</td>\n",
       "    </tr>\n",
       "    <tr>\n",
       "      <th>unique</th>\n",
       "      <td>915</td>\n",
       "      <td>2</td>\n",
       "      <td>694</td>\n",
       "      <td>146</td>\n",
       "      <td>3</td>\n",
       "      <td>24</td>\n",
       "    </tr>\n",
       "    <tr>\n",
       "      <th>top</th>\n",
       "      <td>Connolly, Miss. Kate</td>\n",
       "      <td>male</td>\n",
       "      <td>CA. 2343</td>\n",
       "      <td>B57 B59 B63 B66</td>\n",
       "      <td>S</td>\n",
       "      <td>13</td>\n",
       "    </tr>\n",
       "    <tr>\n",
       "      <th>freq</th>\n",
       "      <td>2</td>\n",
       "      <td>592</td>\n",
       "      <td>9</td>\n",
       "      <td>5</td>\n",
       "      <td>638</td>\n",
       "      <td>30</td>\n",
       "    </tr>\n",
       "  </tbody>\n",
       "</table>\n",
       "</div>"
      ],
      "text/plain": [
       "                        name   sex   TickNum            cabin embarked MedBoat\n",
       "count                    916   916       916              204      915     327\n",
       "unique                   915     2       694              146        3      24\n",
       "top     Connolly, Miss. Kate  male  CA. 2343  B57 B59 B63 B66        S      13\n",
       "freq                       2   592         9                5      638      30"
      ]
     },
     "execution_count": 7,
     "metadata": {},
     "output_type": "execute_result"
    }
   ],
   "source": [
    "train_desc_cat"
   ]
  },
  {
   "cell_type": "code",
   "execution_count": 8,
   "metadata": {},
   "outputs": [
    {
     "data": {
      "text/html": [
       "<div>\n",
       "<style scoped>\n",
       "    .dataframe tbody tr th:only-of-type {\n",
       "        vertical-align: middle;\n",
       "    }\n",
       "\n",
       "    .dataframe tbody tr th {\n",
       "        vertical-align: top;\n",
       "    }\n",
       "\n",
       "    .dataframe thead th {\n",
       "        text-align: right;\n",
       "    }\n",
       "</style>\n",
       "<table border=\"1\" class=\"dataframe\">\n",
       "  <thead>\n",
       "    <tr style=\"text-align: right;\">\n",
       "      <th></th>\n",
       "      <th>name</th>\n",
       "      <th>sex</th>\n",
       "      <th>TickNum</th>\n",
       "      <th>cabin</th>\n",
       "      <th>embarked</th>\n",
       "      <th>MedBoat</th>\n",
       "    </tr>\n",
       "  </thead>\n",
       "  <tbody>\n",
       "    <tr>\n",
       "      <th>count</th>\n",
       "      <td>393</td>\n",
       "      <td>393</td>\n",
       "      <td>393</td>\n",
       "      <td>91</td>\n",
       "      <td>392</td>\n",
       "      <td>159</td>\n",
       "    </tr>\n",
       "    <tr>\n",
       "      <th>unique</th>\n",
       "      <td>393</td>\n",
       "      <td>2</td>\n",
       "      <td>345</td>\n",
       "      <td>76</td>\n",
       "      <td>3</td>\n",
       "      <td>23</td>\n",
       "    </tr>\n",
       "    <tr>\n",
       "      <th>top</th>\n",
       "      <td>Sage, Mr. Douglas Bullen</td>\n",
       "      <td>male</td>\n",
       "      <td>110413</td>\n",
       "      <td>B96 B98</td>\n",
       "      <td>S</td>\n",
       "      <td>C</td>\n",
       "    </tr>\n",
       "    <tr>\n",
       "      <th>freq</th>\n",
       "      <td>1</td>\n",
       "      <td>251</td>\n",
       "      <td>3</td>\n",
       "      <td>2</td>\n",
       "      <td>276</td>\n",
       "      <td>16</td>\n",
       "    </tr>\n",
       "  </tbody>\n",
       "</table>\n",
       "</div>"
      ],
      "text/plain": [
       "                            name   sex TickNum    cabin embarked MedBoat\n",
       "count                        393   393     393       91      392     159\n",
       "unique                       393     2     345       76        3      23\n",
       "top     Sage, Mr. Douglas Bullen  male  110413  B96 B98        S       C\n",
       "freq                           1   251       3        2      276      16"
      ]
     },
     "execution_count": 8,
     "metadata": {},
     "output_type": "execute_result"
    }
   ],
   "source": [
    "test_desc_cat"
   ]
  },
  {
   "cell_type": "markdown",
   "metadata": {},
   "source": [
    "# Handling Missing Values"
   ]
  },
  {
   "cell_type": "code",
   "execution_count": 9,
   "metadata": {},
   "outputs": [],
   "source": [
    "for dataset in datasets:\n",
    "    train_missing_val = datasets[0].isnull().sum()\n",
    "    test_missing_val = datasets[1].isnull().sum()"
   ]
  },
  {
   "cell_type": "code",
   "execution_count": 10,
   "metadata": {
    "scrolled": true
   },
   "outputs": [
    {
     "data": {
      "text/plain": [
       "traveller_ID          0\n",
       "ticket_class          0\n",
       "name                  0\n",
       "sex                   0\n",
       "age                 187\n",
       "Siblings_spouses      0\n",
       "Parchil               0\n",
       "TickNum               0\n",
       "fare                  1\n",
       "cabin               712\n",
       "embarked              1\n",
       "MedBoat             589\n",
       "Survived              0\n",
       "dtype: int64"
      ]
     },
     "execution_count": 10,
     "metadata": {},
     "output_type": "execute_result"
    }
   ],
   "source": [
    "train_missing_val"
   ]
  },
  {
   "cell_type": "code",
   "execution_count": 11,
   "metadata": {},
   "outputs": [
    {
     "data": {
      "text/plain": [
       "traveller_ID        0\n",
       "ticket_class        0\n",
       "name                0\n",
       "sex                 0\n",
       "age                 0\n",
       "Siblings_spouses    0\n",
       "Parchil             0\n",
       "TickNum             0\n",
       "fare                0\n",
       "cabin               0\n",
       "embarked            0\n",
       "MedBoat             0\n",
       "Survived            0\n",
       "dtype: int64"
      ]
     },
     "execution_count": 11,
     "metadata": {},
     "output_type": "execute_result"
    }
   ],
   "source": [
    "#Numerical\n",
    "train['age'].fillna(train['age'].mean(), inplace = True)\n",
    "train['fare'].fillna(train['fare'].mean(), inplace = True)\n",
    "\n",
    "#Categorical\n",
    "train['embarked'].fillna('S', inplace = True)\n",
    "\n",
    "#randomly input values from the missing data in the following variables \n",
    "train['MedBoat'] = train['MedBoat'].fillna(0)\n",
    "\n",
    "cab_arr = train['cabin'][train['cabin'].notnull()].values  #extracts all values in the column that are not null\n",
    "fill_cab = pd.Series(np.random.choice(cab_arr, 1712))\n",
    "train['cabin'] = train['cabin'].fillna(fill_cab)\n",
    "\n",
    "train.isnull().sum()"
   ]
  },
  {
   "cell_type": "code",
   "execution_count": 12,
   "metadata": {},
   "outputs": [
    {
     "data": {
      "text/plain": [
       "traveller_ID          0\n",
       "ticket_class          0\n",
       "name                  0\n",
       "sex                   0\n",
       "age                  76\n",
       "Siblings_spouses      0\n",
       "Parchil               0\n",
       "TickNum               0\n",
       "fare                  0\n",
       "cabin               302\n",
       "embarked              1\n",
       "MedBoat             234\n",
       "dtype: int64"
      ]
     },
     "execution_count": 12,
     "metadata": {},
     "output_type": "execute_result"
    }
   ],
   "source": [
    "\n",
    "test_missing_val"
   ]
  },
  {
   "cell_type": "code",
   "execution_count": 13,
   "metadata": {},
   "outputs": [
    {
     "data": {
      "text/plain": [
       "traveller_ID        0\n",
       "ticket_class        0\n",
       "name                0\n",
       "sex                 0\n",
       "age                 0\n",
       "Siblings_spouses    0\n",
       "Parchil             0\n",
       "TickNum             0\n",
       "fare                0\n",
       "cabin               0\n",
       "embarked            0\n",
       "MedBoat             0\n",
       "dtype: int64"
      ]
     },
     "execution_count": 13,
     "metadata": {},
     "output_type": "execute_result"
    }
   ],
   "source": [
    "#Numerical\n",
    "test['age'].fillna(test['age'].mean(), inplace = True)\n",
    "\n",
    "#Categorical\n",
    "test['embarked'].fillna('S', inplace = True)\n",
    "\n",
    "#randomly input values from the missing data in the following variables \n",
    "\n",
    "cab_arr_test = test['cabin'][test['cabin'].notnull()].values  #extracts all values in the column that are not null\n",
    "fill_cab_test = pd.Series(np.random.choice(cab_arr_test, 402))\n",
    "test['cabin'] = test['cabin'].fillna(fill_cab_test)\n",
    "\n",
    "test['MedBoat'] = test['MedBoat'].fillna(0)\n",
    "\n",
    "test.isnull().sum()"
   ]
  },
  {
   "cell_type": "markdown",
   "metadata": {},
   "source": [
    "##  Creating New Features"
   ]
  },
  {
   "cell_type": "code",
   "execution_count": 14,
   "metadata": {},
   "outputs": [
    {
     "name": "stdout",
     "output_type": "stream",
     "text": [
      "<class 'pandas.core.frame.DataFrame'>\n",
      "RangeIndex: 916 entries, 0 to 915\n",
      "Data columns (total 13 columns):\n",
      "traveller_ID        916 non-null int64\n",
      "ticket_class        916 non-null int64\n",
      "name                916 non-null object\n",
      "sex                 916 non-null object\n",
      "age                 916 non-null float64\n",
      "Siblings_spouses    916 non-null int64\n",
      "Parchil             916 non-null int64\n",
      "TickNum             916 non-null object\n",
      "fare                916 non-null float64\n",
      "cabin               916 non-null object\n",
      "embarked            916 non-null object\n",
      "MedBoat             916 non-null object\n",
      "Survived            916 non-null int64\n",
      "dtypes: float64(2), int64(5), object(6)\n",
      "memory usage: 93.1+ KB\n"
     ]
    }
   ],
   "source": [
    "train.info()"
   ]
  },
  {
   "cell_type": "code",
   "execution_count": 15,
   "metadata": {},
   "outputs": [
    {
     "data": {
      "text/plain": [
       "True     538\n",
       "False    378\n",
       "Name: alone, dtype: int64"
      ]
     },
     "execution_count": 15,
     "metadata": {},
     "output_type": "execute_result"
    }
   ],
   "source": [
    "# Merge Siblings_spouses and Parchil\n",
    "datasets = [train, test]\n",
    "for dataset in datasets:\n",
    "    dataset['relatives'] = dataset['Siblings_spouses'] + dataset['Parchil']\n",
    "    dataset.loc[dataset['relatives'] > 0, 'alone'] = 'False'\n",
    "    dataset.loc[dataset['relatives'] == 0, 'alone'] = 'True'\n",
    "\n",
    "train = train.drop(['Siblings_spouses','Parchil'], axis = 1)\n",
    "test = test.drop(['Siblings_spouses','Parchil'], axis = 1)\n",
    "\n",
    "train['alone'].value_counts()"
   ]
  },
  {
   "cell_type": "code",
   "execution_count": 16,
   "metadata": {},
   "outputs": [
    {
     "data": {
      "text/plain": [
       "Index(['traveller_ID', 'ticket_class', 'name', 'sex', 'age', 'TickNum', 'fare',\n",
       "       'cabin', 'embarked', 'MedBoat', 'Survived', 'relatives', 'alone'],\n",
       "      dtype='object')"
      ]
     },
     "execution_count": 16,
     "metadata": {},
     "output_type": "execute_result"
    }
   ],
   "source": [
    "train.columns"
   ]
  },
  {
   "cell_type": "code",
   "execution_count": 17,
   "metadata": {},
   "outputs": [
    {
     "data": {
      "text/plain": [
       "Index(['traveller_ID', 'ticket_class', 'name', 'sex', 'age', 'TickNum', 'fare',\n",
       "       'cabin', 'embarked', 'MedBoat', 'relatives', 'alone'],\n",
       "      dtype='object')"
      ]
     },
     "execution_count": 17,
     "metadata": {},
     "output_type": "execute_result"
    }
   ],
   "source": [
    "test.columns"
   ]
  },
  {
   "cell_type": "code",
   "execution_count": 18,
   "metadata": {},
   "outputs": [],
   "source": [
    "import re\n",
    "datasets = [train,test]\n",
    "for dataset in datasets:\n",
    "    dataset['deck'] = dataset['cabin'].apply(lambda x: re.match(r\"[a-zA-Z]+\", x).group()) #create a new column 'deck'\n",
    "    \n",
    "#drop the cabin feature along the column\n",
    "train = train.drop(['cabin'], axis =1)\n",
    "test = test.drop(['cabin'], axis =1)"
   ]
  },
  {
   "cell_type": "code",
   "execution_count": 19,
   "metadata": {},
   "outputs": [],
   "source": [
    "datasets = [train,test]\n",
    "for dataset in datasets:\n",
    "    dataset['fare'] = dataset['fare'].astype(int)"
   ]
  },
  {
   "cell_type": "code",
   "execution_count": 20,
   "metadata": {},
   "outputs": [],
   "source": [
    "#Build a new feature from the name feature called title\n",
    "\n",
    "datasets = [train,test]\n",
    "for dataset in datasets:\n",
    "    dataset['title'] = dataset['name'].str.extract(r\"([A-Za-z]+)\\.\",expand=False)\n",
    "    dataset['title'] = dataset['title'].replace('Mlle','Miss')\n",
    "    dataset['title'] = dataset['title'].replace('Ms','Miss')\n",
    "    dataset['title'] = dataset['title'].replace('Mme','Mrs')\n",
    "    dataset['title'] = dataset['title'].apply(lambda x: 'Mr' if x=='Mr' else('Mrs' if x=='Mrs' else('Master' if x=='Master' else('Miss' if x=='Miss' else ('Rare')))))\n",
    "\n",
    "train = train.drop(['name'], axis=1)\n",
    "test = test.drop(['name'], axis=1)"
   ]
  },
  {
   "cell_type": "code",
   "execution_count": 21,
   "metadata": {},
   "outputs": [
    {
     "data": {
      "text/plain": [
       "0    589\n",
       "1    327\n",
       "Name: MedBoat, dtype: int64"
      ]
     },
     "execution_count": 21,
     "metadata": {},
     "output_type": "execute_result"
    }
   ],
   "source": [
    "# replace all instances where value of MedBoat is given with 1 and others as 0 \n",
    "datasets = [train,test]\n",
    "for dataset in datasets:\n",
    "    dataset['MedBoat'] = dataset['MedBoat'].apply(lambda x: 0 if x==0 else 1)\n",
    "train.MedBoat.value_counts()"
   ]
  },
  {
   "cell_type": "code",
   "execution_count": 22,
   "metadata": {},
   "outputs": [
    {
     "data": {
      "text/plain": [
       "0    585\n",
       "1    331\n",
       "Name: Survived, dtype: int64"
      ]
     },
     "execution_count": 22,
     "metadata": {},
     "output_type": "execute_result"
    }
   ],
   "source": [
    "train.Survived.value_counts()"
   ]
  },
  {
   "cell_type": "code",
   "execution_count": 23,
   "metadata": {},
   "outputs": [
    {
     "data": {
      "text/html": [
       "<div>\n",
       "<style scoped>\n",
       "    .dataframe tbody tr th:only-of-type {\n",
       "        vertical-align: middle;\n",
       "    }\n",
       "\n",
       "    .dataframe tbody tr th {\n",
       "        vertical-align: top;\n",
       "    }\n",
       "\n",
       "    .dataframe thead th {\n",
       "        text-align: right;\n",
       "    }\n",
       "</style>\n",
       "<table border=\"1\" class=\"dataframe\">\n",
       "  <thead>\n",
       "    <tr style=\"text-align: right;\">\n",
       "      <th></th>\n",
       "      <th>traveller_ID</th>\n",
       "      <th>ticket_class</th>\n",
       "      <th>sex</th>\n",
       "      <th>age</th>\n",
       "      <th>TickNum</th>\n",
       "      <th>fare</th>\n",
       "      <th>embarked</th>\n",
       "      <th>MedBoat</th>\n",
       "      <th>Survived</th>\n",
       "      <th>relatives</th>\n",
       "      <th>alone</th>\n",
       "      <th>deck</th>\n",
       "      <th>title</th>\n",
       "    </tr>\n",
       "  </thead>\n",
       "  <tbody>\n",
       "    <tr>\n",
       "      <th>0</th>\n",
       "      <td>1214</td>\n",
       "      <td>3</td>\n",
       "      <td>male</td>\n",
       "      <td>29.102309</td>\n",
       "      <td>315037</td>\n",
       "      <td>8</td>\n",
       "      <td>S</td>\n",
       "      <td>0</td>\n",
       "      <td>0</td>\n",
       "      <td>0</td>\n",
       "      <td>True</td>\n",
       "      <td>B</td>\n",
       "      <td>Mr</td>\n",
       "    </tr>\n",
       "    <tr>\n",
       "      <th>1</th>\n",
       "      <td>677</td>\n",
       "      <td>3</td>\n",
       "      <td>male</td>\n",
       "      <td>26.000000</td>\n",
       "      <td>349224</td>\n",
       "      <td>7</td>\n",
       "      <td>S</td>\n",
       "      <td>0</td>\n",
       "      <td>0</td>\n",
       "      <td>0</td>\n",
       "      <td>True</td>\n",
       "      <td>B</td>\n",
       "      <td>Mr</td>\n",
       "    </tr>\n",
       "    <tr>\n",
       "      <th>2</th>\n",
       "      <td>534</td>\n",
       "      <td>2</td>\n",
       "      <td>female</td>\n",
       "      <td>19.000000</td>\n",
       "      <td>250655</td>\n",
       "      <td>26</td>\n",
       "      <td>S</td>\n",
       "      <td>1</td>\n",
       "      <td>1</td>\n",
       "      <td>0</td>\n",
       "      <td>True</td>\n",
       "      <td>B</td>\n",
       "      <td>Miss</td>\n",
       "    </tr>\n",
       "    <tr>\n",
       "      <th>3</th>\n",
       "      <td>1174</td>\n",
       "      <td>3</td>\n",
       "      <td>female</td>\n",
       "      <td>29.102309</td>\n",
       "      <td>CA. 2343</td>\n",
       "      <td>69</td>\n",
       "      <td>S</td>\n",
       "      <td>0</td>\n",
       "      <td>0</td>\n",
       "      <td>10</td>\n",
       "      <td>False</td>\n",
       "      <td>B</td>\n",
       "      <td>Miss</td>\n",
       "    </tr>\n",
       "    <tr>\n",
       "      <th>4</th>\n",
       "      <td>864</td>\n",
       "      <td>3</td>\n",
       "      <td>female</td>\n",
       "      <td>28.000000</td>\n",
       "      <td>347086</td>\n",
       "      <td>7</td>\n",
       "      <td>S</td>\n",
       "      <td>0</td>\n",
       "      <td>0</td>\n",
       "      <td>0</td>\n",
       "      <td>True</td>\n",
       "      <td>B</td>\n",
       "      <td>Miss</td>\n",
       "    </tr>\n",
       "    <tr>\n",
       "      <th>5</th>\n",
       "      <td>895</td>\n",
       "      <td>3</td>\n",
       "      <td>female</td>\n",
       "      <td>1.000000</td>\n",
       "      <td>347742</td>\n",
       "      <td>11</td>\n",
       "      <td>S</td>\n",
       "      <td>1</td>\n",
       "      <td>1</td>\n",
       "      <td>2</td>\n",
       "      <td>False</td>\n",
       "      <td>A</td>\n",
       "      <td>Miss</td>\n",
       "    </tr>\n",
       "    <tr>\n",
       "      <th>6</th>\n",
       "      <td>813</td>\n",
       "      <td>3</td>\n",
       "      <td>male</td>\n",
       "      <td>29.102309</td>\n",
       "      <td>SOTON/O.Q. 3101314</td>\n",
       "      <td>7</td>\n",
       "      <td>S</td>\n",
       "      <td>0</td>\n",
       "      <td>0</td>\n",
       "      <td>0</td>\n",
       "      <td>True</td>\n",
       "      <td>C</td>\n",
       "      <td>Mr</td>\n",
       "    </tr>\n",
       "  </tbody>\n",
       "</table>\n",
       "</div>"
      ],
      "text/plain": [
       "   traveller_ID  ticket_class     sex        age             TickNum  fare  \\\n",
       "0          1214             3    male  29.102309              315037     8   \n",
       "1           677             3    male  26.000000              349224     7   \n",
       "2           534             2  female  19.000000              250655    26   \n",
       "3          1174             3  female  29.102309            CA. 2343    69   \n",
       "4           864             3  female  28.000000              347086     7   \n",
       "5           895             3  female   1.000000              347742    11   \n",
       "6           813             3    male  29.102309  SOTON/O.Q. 3101314     7   \n",
       "\n",
       "  embarked  MedBoat  Survived  relatives  alone deck title  \n",
       "0        S        0         0          0   True    B    Mr  \n",
       "1        S        0         0          0   True    B    Mr  \n",
       "2        S        1         1          0   True    B  Miss  \n",
       "3        S        0         0         10  False    B  Miss  \n",
       "4        S        0         0          0   True    B  Miss  \n",
       "5        S        1         1          2  False    A  Miss  \n",
       "6        S        0         0          0   True    C    Mr  "
      ]
     },
     "execution_count": 23,
     "metadata": {},
     "output_type": "execute_result"
    }
   ],
   "source": [
    "train.head(7)"
   ]
  },
  {
   "cell_type": "code",
   "execution_count": 24,
   "metadata": {},
   "outputs": [
    {
     "name": "stdout",
     "output_type": "stream",
     "text": [
      "<class 'pandas.core.frame.DataFrame'>\n",
      "RangeIndex: 916 entries, 0 to 915\n",
      "Data columns (total 13 columns):\n",
      "traveller_ID    916 non-null int64\n",
      "ticket_class    916 non-null int64\n",
      "sex             916 non-null object\n",
      "age             916 non-null float64\n",
      "TickNum         916 non-null object\n",
      "fare            916 non-null int32\n",
      "embarked        916 non-null object\n",
      "MedBoat         916 non-null int64\n",
      "Survived        916 non-null int64\n",
      "relatives       916 non-null int64\n",
      "alone           916 non-null object\n",
      "deck            916 non-null object\n",
      "title           916 non-null object\n",
      "dtypes: float64(1), int32(1), int64(5), object(6)\n",
      "memory usage: 89.5+ KB\n"
     ]
    }
   ],
   "source": [
    "train.info()"
   ]
  },
  {
   "cell_type": "code",
   "execution_count": 25,
   "metadata": {},
   "outputs": [],
   "source": [
    "#creating categories for age\n",
    "datasets = [train,test]\n",
    "for dataset in datasets:\n",
    "    dataset['age'] = dataset['age'].apply(lambda x: 'baby' if x <= 4 else('child' if (x>4 and x<=12) else('teen' if (x>12 and x<=19) else('middle aged' if (x>19 and x<=59) else 'aged'))))\n",
    "    "
   ]
  },
  {
   "cell_type": "code",
   "execution_count": 26,
   "metadata": {},
   "outputs": [],
   "source": [
    "#Creating a new feature fare per person\n",
    "atasets = [train,test]\n",
    "for dataset in datasets:\n",
    "    dataset['fare per person'] = dataset['fare'] / (dataset['relatives'] + 1)\n",
    "    dataset['fare per person'] = dataset['fare per person'].astype(int)"
   ]
  },
  {
   "cell_type": "code",
   "execution_count": 27,
   "metadata": {
    "scrolled": true
   },
   "outputs": [
    {
     "data": {
      "text/html": [
       "<div>\n",
       "<style scoped>\n",
       "    .dataframe tbody tr th:only-of-type {\n",
       "        vertical-align: middle;\n",
       "    }\n",
       "\n",
       "    .dataframe tbody tr th {\n",
       "        vertical-align: top;\n",
       "    }\n",
       "\n",
       "    .dataframe thead th {\n",
       "        text-align: right;\n",
       "    }\n",
       "</style>\n",
       "<table border=\"1\" class=\"dataframe\">\n",
       "  <thead>\n",
       "    <tr style=\"text-align: right;\">\n",
       "      <th></th>\n",
       "      <th>traveller_ID</th>\n",
       "      <th>ticket_class</th>\n",
       "      <th>sex</th>\n",
       "      <th>age</th>\n",
       "      <th>TickNum</th>\n",
       "      <th>fare</th>\n",
       "      <th>embarked</th>\n",
       "      <th>MedBoat</th>\n",
       "      <th>Survived</th>\n",
       "      <th>relatives</th>\n",
       "      <th>alone</th>\n",
       "      <th>deck</th>\n",
       "      <th>title</th>\n",
       "      <th>fare per person</th>\n",
       "    </tr>\n",
       "  </thead>\n",
       "  <tbody>\n",
       "    <tr>\n",
       "      <th>0</th>\n",
       "      <td>1214</td>\n",
       "      <td>3</td>\n",
       "      <td>male</td>\n",
       "      <td>middle aged</td>\n",
       "      <td>315037</td>\n",
       "      <td>8</td>\n",
       "      <td>S</td>\n",
       "      <td>0</td>\n",
       "      <td>0</td>\n",
       "      <td>0</td>\n",
       "      <td>True</td>\n",
       "      <td>B</td>\n",
       "      <td>Mr</td>\n",
       "      <td>8</td>\n",
       "    </tr>\n",
       "    <tr>\n",
       "      <th>1</th>\n",
       "      <td>677</td>\n",
       "      <td>3</td>\n",
       "      <td>male</td>\n",
       "      <td>middle aged</td>\n",
       "      <td>349224</td>\n",
       "      <td>7</td>\n",
       "      <td>S</td>\n",
       "      <td>0</td>\n",
       "      <td>0</td>\n",
       "      <td>0</td>\n",
       "      <td>True</td>\n",
       "      <td>B</td>\n",
       "      <td>Mr</td>\n",
       "      <td>7</td>\n",
       "    </tr>\n",
       "    <tr>\n",
       "      <th>2</th>\n",
       "      <td>534</td>\n",
       "      <td>2</td>\n",
       "      <td>female</td>\n",
       "      <td>teen</td>\n",
       "      <td>250655</td>\n",
       "      <td>26</td>\n",
       "      <td>S</td>\n",
       "      <td>1</td>\n",
       "      <td>1</td>\n",
       "      <td>0</td>\n",
       "      <td>True</td>\n",
       "      <td>B</td>\n",
       "      <td>Miss</td>\n",
       "      <td>26</td>\n",
       "    </tr>\n",
       "    <tr>\n",
       "      <th>3</th>\n",
       "      <td>1174</td>\n",
       "      <td>3</td>\n",
       "      <td>female</td>\n",
       "      <td>middle aged</td>\n",
       "      <td>CA. 2343</td>\n",
       "      <td>69</td>\n",
       "      <td>S</td>\n",
       "      <td>0</td>\n",
       "      <td>0</td>\n",
       "      <td>10</td>\n",
       "      <td>False</td>\n",
       "      <td>B</td>\n",
       "      <td>Miss</td>\n",
       "      <td>6</td>\n",
       "    </tr>\n",
       "    <tr>\n",
       "      <th>4</th>\n",
       "      <td>864</td>\n",
       "      <td>3</td>\n",
       "      <td>female</td>\n",
       "      <td>middle aged</td>\n",
       "      <td>347086</td>\n",
       "      <td>7</td>\n",
       "      <td>S</td>\n",
       "      <td>0</td>\n",
       "      <td>0</td>\n",
       "      <td>0</td>\n",
       "      <td>True</td>\n",
       "      <td>B</td>\n",
       "      <td>Miss</td>\n",
       "      <td>7</td>\n",
       "    </tr>\n",
       "  </tbody>\n",
       "</table>\n",
       "</div>"
      ],
      "text/plain": [
       "   traveller_ID  ticket_class     sex          age   TickNum  fare embarked  \\\n",
       "0          1214             3    male  middle aged    315037     8        S   \n",
       "1           677             3    male  middle aged    349224     7        S   \n",
       "2           534             2  female         teen    250655    26        S   \n",
       "3          1174             3  female  middle aged  CA. 2343    69        S   \n",
       "4           864             3  female  middle aged    347086     7        S   \n",
       "\n",
       "   MedBoat  Survived  relatives  alone deck title  fare per person  \n",
       "0        0         0          0   True    B    Mr                8  \n",
       "1        0         0          0   True    B    Mr                7  \n",
       "2        1         1          0   True    B  Miss               26  \n",
       "3        0         0         10  False    B  Miss                6  \n",
       "4        0         0          0   True    B  Miss                7  "
      ]
     },
     "execution_count": 27,
     "metadata": {},
     "output_type": "execute_result"
    }
   ],
   "source": [
    "train.head()"
   ]
  },
  {
   "cell_type": "code",
   "execution_count": 28,
   "metadata": {
    "scrolled": true
   },
   "outputs": [
    {
     "name": "stdout",
     "output_type": "stream",
     "text": [
      "<class 'pandas.core.frame.DataFrame'>\n",
      "RangeIndex: 916 entries, 0 to 915\n",
      "Data columns (total 14 columns):\n",
      "traveller_ID       916 non-null int64\n",
      "ticket_class       916 non-null int64\n",
      "sex                916 non-null object\n",
      "age                916 non-null object\n",
      "TickNum            916 non-null object\n",
      "fare               916 non-null int32\n",
      "embarked           916 non-null object\n",
      "MedBoat            916 non-null int64\n",
      "Survived           916 non-null int64\n",
      "relatives          916 non-null int64\n",
      "alone              916 non-null object\n",
      "deck               916 non-null object\n",
      "title              916 non-null object\n",
      "fare per person    916 non-null int32\n",
      "dtypes: int32(2), int64(5), object(7)\n",
      "memory usage: 93.1+ KB\n"
     ]
    }
   ],
   "source": [
    "train.info()"
   ]
  },
  {
   "cell_type": "code",
   "execution_count": 29,
   "metadata": {},
   "outputs": [],
   "source": [
    "train.to_csv('newTrain.csv')\n",
    "test.to_csv('newTest.csv')"
   ]
  },
  {
   "cell_type": "markdown",
   "metadata": {},
   "source": [
    "# Encoding of categorical variables\n"
   ]
  },
  {
   "cell_type": "code",
   "execution_count": 30,
   "metadata": {},
   "outputs": [
    {
     "data": {
      "text/html": [
       "<div>\n",
       "<style scoped>\n",
       "    .dataframe tbody tr th:only-of-type {\n",
       "        vertical-align: middle;\n",
       "    }\n",
       "\n",
       "    .dataframe tbody tr th {\n",
       "        vertical-align: top;\n",
       "    }\n",
       "\n",
       "    .dataframe thead th {\n",
       "        text-align: right;\n",
       "    }\n",
       "</style>\n",
       "<table border=\"1\" class=\"dataframe\">\n",
       "  <thead>\n",
       "    <tr style=\"text-align: right;\">\n",
       "      <th></th>\n",
       "      <th>sex</th>\n",
       "      <th>age</th>\n",
       "      <th>TickNum</th>\n",
       "      <th>embarked</th>\n",
       "      <th>alone</th>\n",
       "      <th>deck</th>\n",
       "      <th>title</th>\n",
       "    </tr>\n",
       "  </thead>\n",
       "  <tbody>\n",
       "    <tr>\n",
       "      <th>count</th>\n",
       "      <td>916</td>\n",
       "      <td>916</td>\n",
       "      <td>916</td>\n",
       "      <td>916</td>\n",
       "      <td>916</td>\n",
       "      <td>916</td>\n",
       "      <td>916</td>\n",
       "    </tr>\n",
       "    <tr>\n",
       "      <th>unique</th>\n",
       "      <td>2</td>\n",
       "      <td>5</td>\n",
       "      <td>694</td>\n",
       "      <td>3</td>\n",
       "      <td>2</td>\n",
       "      <td>8</td>\n",
       "      <td>5</td>\n",
       "    </tr>\n",
       "    <tr>\n",
       "      <th>top</th>\n",
       "      <td>male</td>\n",
       "      <td>middle aged</td>\n",
       "      <td>CA. 2343</td>\n",
       "      <td>S</td>\n",
       "      <td>True</td>\n",
       "      <td>C</td>\n",
       "      <td>Mr</td>\n",
       "    </tr>\n",
       "    <tr>\n",
       "      <th>freq</th>\n",
       "      <td>592</td>\n",
       "      <td>735</td>\n",
       "      <td>9</td>\n",
       "      <td>639</td>\n",
       "      <td>538</td>\n",
       "      <td>282</td>\n",
       "      <td>530</td>\n",
       "    </tr>\n",
       "  </tbody>\n",
       "</table>\n",
       "</div>"
      ],
      "text/plain": [
       "         sex          age   TickNum embarked alone deck title\n",
       "count    916          916       916      916   916  916   916\n",
       "unique     2            5       694        3     2    8     5\n",
       "top     male  middle aged  CA. 2343        S  True    C    Mr\n",
       "freq     592          735         9      639   538  282   530"
      ]
     },
     "execution_count": 30,
     "metadata": {},
     "output_type": "execute_result"
    }
   ],
   "source": [
    "train.describe(include=['object'])"
   ]
  },
  {
   "cell_type": "code",
   "execution_count": 31,
   "metadata": {},
   "outputs": [],
   "source": [
    "# encode those with two unique categories\n",
    "sex ={'male':0, 'female':1}\n",
    "alone = {'False':0, 'True':1}\n",
    "\n",
    "datasets = [train,test]\n",
    "for dataset in datasets:\n",
    "    dataset['sex'] = dataset['sex'].map(sex)\n",
    "    dataset['alone'] = dataset['alone'].map(alone)"
   ]
  },
  {
   "cell_type": "code",
   "execution_count": 32,
   "metadata": {},
   "outputs": [
    {
     "name": "stdout",
     "output_type": "stream",
     "text": [
      "(393, 11)\n",
      "(916, 11)\n"
     ]
    }
   ],
   "source": [
    "train_X = train.drop(['Survived','TickNum','traveller_ID'], axis=1)\n",
    "Y = train['Survived']\n",
    "\n",
    "test_X = test.copy()\n",
    "test_passengerID = test_X['traveller_ID']\n",
    "test_X=test.drop(['TickNum','traveller_ID'], axis=1)\n",
    "\n",
    "print(test_X.shape)\n",
    "print(train_X.shape)"
   ]
  },
  {
   "cell_type": "code",
   "execution_count": 33,
   "metadata": {},
   "outputs": [
    {
     "name": "stdout",
     "output_type": "stream",
     "text": [
      "(916, 11)\n",
      "(393, 11)\n"
     ]
    }
   ],
   "source": [
    "print(train_X.shape)\n",
    "print(test_X.shape)"
   ]
  },
  {
   "cell_type": "markdown",
   "metadata": {},
   "source": [
    "train_X = train_X[:,1:]\n",
    "print(train_X.shape)"
   ]
  },
  {
   "cell_type": "code",
   "execution_count": 34,
   "metadata": {},
   "outputs": [
    {
     "name": "stdout",
     "output_type": "stream",
     "text": [
      "<class 'pandas.core.frame.DataFrame'>\n",
      "RangeIndex: 916 entries, 0 to 915\n",
      "Data columns (total 14 columns):\n",
      "traveller_ID       916 non-null int64\n",
      "ticket_class       916 non-null int64\n",
      "sex                916 non-null int64\n",
      "age                916 non-null object\n",
      "TickNum            916 non-null object\n",
      "fare               916 non-null int32\n",
      "embarked           916 non-null object\n",
      "MedBoat            916 non-null int64\n",
      "Survived           916 non-null int64\n",
      "relatives          916 non-null int64\n",
      "alone              916 non-null int64\n",
      "deck               916 non-null object\n",
      "title              916 non-null object\n",
      "fare per person    916 non-null int32\n",
      "dtypes: int32(2), int64(7), object(5)\n",
      "memory usage: 93.1+ KB\n"
     ]
    }
   ],
   "source": [
    "train.info()"
   ]
  },
  {
   "cell_type": "code",
   "execution_count": 35,
   "metadata": {},
   "outputs": [],
   "source": [
    "from sklearn.preprocessing import LabelEncoder\n",
    "le = LabelEncoder()"
   ]
  },
  {
   "cell_type": "code",
   "execution_count": 36,
   "metadata": {},
   "outputs": [],
   "source": [
    "train[\"deck\"] = le.fit_transform(train[\"deck\"])\n",
    "train[\"title\"] = le.fit_transform(train[\"title\"])\n",
    "train[\"age\"] = le.fit_transform(train[\"age\"])\n",
    "train[\"TickNum\"] = le.fit_transform(train[\"TickNum\"])\n",
    "train[\"embarked\"] = le.fit_transform(train[\"embarked\"])\n"
   ]
  },
  {
   "cell_type": "code",
   "execution_count": 37,
   "metadata": {},
   "outputs": [
    {
     "name": "stdout",
     "output_type": "stream",
     "text": [
      "<class 'pandas.core.frame.DataFrame'>\n",
      "RangeIndex: 916 entries, 0 to 915\n",
      "Data columns (total 14 columns):\n",
      "traveller_ID       916 non-null int64\n",
      "ticket_class       916 non-null int64\n",
      "sex                916 non-null int64\n",
      "age                916 non-null int32\n",
      "TickNum            916 non-null int32\n",
      "fare               916 non-null int32\n",
      "embarked           916 non-null int32\n",
      "MedBoat            916 non-null int64\n",
      "Survived           916 non-null int64\n",
      "relatives          916 non-null int64\n",
      "alone              916 non-null int64\n",
      "deck               916 non-null int32\n",
      "title              916 non-null int32\n",
      "fare per person    916 non-null int32\n",
      "dtypes: int32(7), int64(7)\n",
      "memory usage: 75.2 KB\n"
     ]
    }
   ],
   "source": [
    "train.info()"
   ]
  },
  {
   "cell_type": "code",
   "execution_count": 38,
   "metadata": {},
   "outputs": [],
   "source": [
    "test[\"deck\"] = le.fit_transform(test[\"deck\"])\n",
    "test[\"title\"] = le.fit_transform(test[\"title\"])\n",
    "test[\"age\"] = le.fit_transform(test[\"age\"])\n",
    "test[\"TickNum\"] = le.fit_transform(test[\"TickNum\"])\n",
    "test[\"embarked\"] = le.fit_transform(test[\"embarked\"])\n",
    "\n"
   ]
  },
  {
   "cell_type": "code",
   "execution_count": 39,
   "metadata": {},
   "outputs": [],
   "source": [
    "X =train[['embarked', 'age','deck', 'title', 'ticket_class',\"relatives\",\"alone\",\"MedBoat\",\"fare per person\",\"fare\",\"sex\", ]]\n",
    "Y = train['Survived']\n",
    "     "
   ]
  },
  {
   "cell_type": "code",
   "execution_count": 40,
   "metadata": {},
   "outputs": [
    {
     "data": {
      "text/plain": [
       "Index(['embarked', 'age', 'deck', 'title', 'ticket_class', 'relatives',\n",
       "       'alone', 'MedBoat', 'fare per person', 'fare', 'sex'],\n",
       "      dtype='object')"
      ]
     },
     "execution_count": 40,
     "metadata": {},
     "output_type": "execute_result"
    }
   ],
   "source": [
    "X.columns"
   ]
  },
  {
   "cell_type": "code",
   "execution_count": 41,
   "metadata": {},
   "outputs": [
    {
     "data": {
      "text/plain": [
       "Index(['ticket_class', 'sex', 'age', 'fare', 'embarked', 'MedBoat',\n",
       "       'relatives', 'alone', 'deck', 'title', 'fare per person'],\n",
       "      dtype='object')"
      ]
     },
     "execution_count": 41,
     "metadata": {},
     "output_type": "execute_result"
    }
   ],
   "source": [
    "test_X.columns"
   ]
  },
  {
   "cell_type": "code",
   "execution_count": 42,
   "metadata": {},
   "outputs": [
    {
     "name": "stdout",
     "output_type": "stream",
     "text": [
      "<class 'pandas.core.frame.DataFrame'>\n",
      "RangeIndex: 393 entries, 0 to 392\n",
      "Data columns (total 13 columns):\n",
      "traveller_ID       393 non-null int64\n",
      "ticket_class       393 non-null float64\n",
      "sex                393 non-null int64\n",
      "age                393 non-null int32\n",
      "TickNum            393 non-null int32\n",
      "fare               393 non-null int32\n",
      "embarked           393 non-null int32\n",
      "MedBoat            393 non-null int64\n",
      "relatives          393 non-null float64\n",
      "alone              393 non-null int64\n",
      "deck               393 non-null int32\n",
      "title              393 non-null int32\n",
      "fare per person    393 non-null int32\n",
      "dtypes: float64(2), int32(7), int64(4)\n",
      "memory usage: 29.2 KB\n"
     ]
    }
   ],
   "source": [
    "test.info()"
   ]
  },
  {
   "cell_type": "markdown",
   "metadata": {},
   "source": [
    "# Normalising the independent Variable"
   ]
  },
  {
   "cell_type": "code",
   "execution_count": 43,
   "metadata": {},
   "outputs": [],
   "source": [
    "from sklearn.model_selection import train_test_split\n",
    "\n",
    "X_train, X_test, Y_train, Y_test = train_test_split(X, Y, test_size=0.3, random_state =0)"
   ]
  },
  {
   "cell_type": "code",
   "execution_count": 44,
   "metadata": {},
   "outputs": [],
   "source": [
    "from sklearn.ensemble import RandomForestClassifier\n",
    "\n",
    "rf = RandomForestClassifier(n_estimators=100)\n",
    "rf = rf.fit(X_train,Y_train)"
   ]
  },
  {
   "cell_type": "code",
   "execution_count": 45,
   "metadata": {},
   "outputs": [],
   "source": [
    "Y_pred = rf.predict(X_test)"
   ]
  },
  {
   "cell_type": "code",
   "execution_count": 46,
   "metadata": {},
   "outputs": [],
   "source": [
    "from sklearn.metrics import f1_score, confusion_matrix\n",
    "\n",
    "cm = confusion_matrix(Y_test, Y_pred)\n",
    "\n",
    "f1= f1_score(Y_test, Y_pred)"
   ]
  },
  {
   "cell_type": "code",
   "execution_count": 47,
   "metadata": {},
   "outputs": [
    {
     "data": {
      "text/plain": [
       "array([[170,   4],\n",
       "       [  2,  99]], dtype=int64)"
      ]
     },
     "execution_count": 47,
     "metadata": {},
     "output_type": "execute_result"
    }
   ],
   "source": [
    "cm"
   ]
  },
  {
   "cell_type": "code",
   "execution_count": 48,
   "metadata": {},
   "outputs": [
    {
     "data": {
      "text/plain": [
       "0.9705882352941178"
      ]
     },
     "execution_count": 48,
     "metadata": {},
     "output_type": "execute_result"
    }
   ],
   "source": [
    "f1"
   ]
  },
  {
   "cell_type": "code",
   "execution_count": 49,
   "metadata": {},
   "outputs": [],
   "source": [
    "test_X[\"age\"] = le.fit_transform(test_X[\"age\"])\n",
    "test_X[\"deck\"] = le.fit_transform(test_X[\"deck\"])\n",
    "test_X[\"embarked\"] = le.fit_transform(test_X[\"embarked\"])\n",
    "test_X[\"title\"] = le.fit_transform(test_X[\"title\"])"
   ]
  },
  {
   "cell_type": "code",
   "execution_count": 50,
   "metadata": {},
   "outputs": [
    {
     "data": {
      "text/html": [
       "<div>\n",
       "<style scoped>\n",
       "    .dataframe tbody tr th:only-of-type {\n",
       "        vertical-align: middle;\n",
       "    }\n",
       "\n",
       "    .dataframe tbody tr th {\n",
       "        vertical-align: top;\n",
       "    }\n",
       "\n",
       "    .dataframe thead th {\n",
       "        text-align: right;\n",
       "    }\n",
       "</style>\n",
       "<table border=\"1\" class=\"dataframe\">\n",
       "  <thead>\n",
       "    <tr style=\"text-align: right;\">\n",
       "      <th></th>\n",
       "      <th>ticket_class</th>\n",
       "      <th>sex</th>\n",
       "      <th>age</th>\n",
       "      <th>fare</th>\n",
       "      <th>embarked</th>\n",
       "      <th>MedBoat</th>\n",
       "      <th>relatives</th>\n",
       "      <th>alone</th>\n",
       "      <th>deck</th>\n",
       "      <th>title</th>\n",
       "      <th>fare per person</th>\n",
       "    </tr>\n",
       "  </thead>\n",
       "  <tbody>\n",
       "    <tr>\n",
       "      <th>0</th>\n",
       "      <td>3.0</td>\n",
       "      <td>0</td>\n",
       "      <td>3</td>\n",
       "      <td>7</td>\n",
       "      <td>2</td>\n",
       "      <td>0</td>\n",
       "      <td>0.0</td>\n",
       "      <td>1</td>\n",
       "      <td>2</td>\n",
       "      <td>2</td>\n",
       "      <td>7</td>\n",
       "    </tr>\n",
       "    <tr>\n",
       "      <th>1</th>\n",
       "      <td>3.0</td>\n",
       "      <td>0</td>\n",
       "      <td>3</td>\n",
       "      <td>15</td>\n",
       "      <td>0</td>\n",
       "      <td>1</td>\n",
       "      <td>2.0</td>\n",
       "      <td>0</td>\n",
       "      <td>1</td>\n",
       "      <td>2</td>\n",
       "      <td>5</td>\n",
       "    </tr>\n",
       "    <tr>\n",
       "      <th>2</th>\n",
       "      <td>3.0</td>\n",
       "      <td>0</td>\n",
       "      <td>3</td>\n",
       "      <td>7</td>\n",
       "      <td>2</td>\n",
       "      <td>0</td>\n",
       "      <td>0.0</td>\n",
       "      <td>1</td>\n",
       "      <td>3</td>\n",
       "      <td>2</td>\n",
       "      <td>7</td>\n",
       "    </tr>\n",
       "    <tr>\n",
       "      <th>3</th>\n",
       "      <td>3.0</td>\n",
       "      <td>0</td>\n",
       "      <td>3</td>\n",
       "      <td>8</td>\n",
       "      <td>2</td>\n",
       "      <td>0</td>\n",
       "      <td>0.0</td>\n",
       "      <td>1</td>\n",
       "      <td>2</td>\n",
       "      <td>2</td>\n",
       "      <td>8</td>\n",
       "    </tr>\n",
       "    <tr>\n",
       "      <th>4</th>\n",
       "      <td>3.0</td>\n",
       "      <td>0</td>\n",
       "      <td>3</td>\n",
       "      <td>7</td>\n",
       "      <td>1</td>\n",
       "      <td>0</td>\n",
       "      <td>0.0</td>\n",
       "      <td>1</td>\n",
       "      <td>2</td>\n",
       "      <td>2</td>\n",
       "      <td>7</td>\n",
       "    </tr>\n",
       "  </tbody>\n",
       "</table>\n",
       "</div>"
      ],
      "text/plain": [
       "   ticket_class  sex  age  fare  embarked  MedBoat  relatives  alone  deck  \\\n",
       "0           3.0    0    3     7         2        0        0.0      1     2   \n",
       "1           3.0    0    3    15         0        1        2.0      0     1   \n",
       "2           3.0    0    3     7         2        0        0.0      1     3   \n",
       "3           3.0    0    3     8         2        0        0.0      1     2   \n",
       "4           3.0    0    3     7         1        0        0.0      1     2   \n",
       "\n",
       "   title  fare per person  \n",
       "0      2                7  \n",
       "1      2                5  \n",
       "2      2                7  \n",
       "3      2                8  \n",
       "4      2                7  "
      ]
     },
     "execution_count": 50,
     "metadata": {},
     "output_type": "execute_result"
    }
   ],
   "source": [
    "test_X.head()"
   ]
  },
  {
   "cell_type": "code",
   "execution_count": 51,
   "metadata": {},
   "outputs": [
    {
     "data": {
      "text/html": [
       "<div>\n",
       "<style scoped>\n",
       "    .dataframe tbody tr th:only-of-type {\n",
       "        vertical-align: middle;\n",
       "    }\n",
       "\n",
       "    .dataframe tbody tr th {\n",
       "        vertical-align: top;\n",
       "    }\n",
       "\n",
       "    .dataframe thead th {\n",
       "        text-align: right;\n",
       "    }\n",
       "</style>\n",
       "<table border=\"1\" class=\"dataframe\">\n",
       "  <thead>\n",
       "    <tr style=\"text-align: right;\">\n",
       "      <th></th>\n",
       "      <th>traveller_ID</th>\n",
       "      <th>ticket_class</th>\n",
       "      <th>sex</th>\n",
       "      <th>age</th>\n",
       "      <th>TickNum</th>\n",
       "      <th>fare</th>\n",
       "      <th>embarked</th>\n",
       "      <th>MedBoat</th>\n",
       "      <th>relatives</th>\n",
       "      <th>alone</th>\n",
       "      <th>deck</th>\n",
       "      <th>title</th>\n",
       "      <th>fare per person</th>\n",
       "    </tr>\n",
       "  </thead>\n",
       "  <tbody>\n",
       "    <tr>\n",
       "      <th>0</th>\n",
       "      <td>1148</td>\n",
       "      <td>3.0</td>\n",
       "      <td>0</td>\n",
       "      <td>3</td>\n",
       "      <td>332</td>\n",
       "      <td>7</td>\n",
       "      <td>2</td>\n",
       "      <td>0</td>\n",
       "      <td>0.0</td>\n",
       "      <td>1</td>\n",
       "      <td>2</td>\n",
       "      <td>2</td>\n",
       "      <td>7</td>\n",
       "    </tr>\n",
       "    <tr>\n",
       "      <th>1</th>\n",
       "      <td>1049</td>\n",
       "      <td>3.0</td>\n",
       "      <td>0</td>\n",
       "      <td>3</td>\n",
       "      <td>96</td>\n",
       "      <td>15</td>\n",
       "      <td>0</td>\n",
       "      <td>1</td>\n",
       "      <td>2.0</td>\n",
       "      <td>0</td>\n",
       "      <td>1</td>\n",
       "      <td>2</td>\n",
       "      <td>5</td>\n",
       "    </tr>\n",
       "    <tr>\n",
       "      <th>2</th>\n",
       "      <td>982</td>\n",
       "      <td>3.0</td>\n",
       "      <td>0</td>\n",
       "      <td>3</td>\n",
       "      <td>187</td>\n",
       "      <td>7</td>\n",
       "      <td>2</td>\n",
       "      <td>0</td>\n",
       "      <td>0.0</td>\n",
       "      <td>1</td>\n",
       "      <td>3</td>\n",
       "      <td>2</td>\n",
       "      <td>7</td>\n",
       "    </tr>\n",
       "    <tr>\n",
       "      <th>3</th>\n",
       "      <td>808</td>\n",
       "      <td>3.0</td>\n",
       "      <td>0</td>\n",
       "      <td>3</td>\n",
       "      <td>255</td>\n",
       "      <td>8</td>\n",
       "      <td>2</td>\n",
       "      <td>0</td>\n",
       "      <td>0.0</td>\n",
       "      <td>1</td>\n",
       "      <td>2</td>\n",
       "      <td>2</td>\n",
       "      <td>8</td>\n",
       "    </tr>\n",
       "    <tr>\n",
       "      <th>4</th>\n",
       "      <td>1195</td>\n",
       "      <td>3.0</td>\n",
       "      <td>0</td>\n",
       "      <td>3</td>\n",
       "      <td>229</td>\n",
       "      <td>7</td>\n",
       "      <td>1</td>\n",
       "      <td>0</td>\n",
       "      <td>0.0</td>\n",
       "      <td>1</td>\n",
       "      <td>2</td>\n",
       "      <td>2</td>\n",
       "      <td>7</td>\n",
       "    </tr>\n",
       "  </tbody>\n",
       "</table>\n",
       "</div>"
      ],
      "text/plain": [
       "   traveller_ID  ticket_class  sex  age  TickNum  fare  embarked  MedBoat  \\\n",
       "0          1148           3.0    0    3      332     7         2        0   \n",
       "1          1049           3.0    0    3       96    15         0        1   \n",
       "2           982           3.0    0    3      187     7         2        0   \n",
       "3           808           3.0    0    3      255     8         2        0   \n",
       "4          1195           3.0    0    3      229     7         1        0   \n",
       "\n",
       "   relatives  alone  deck  title  fare per person  \n",
       "0        0.0      1     2      2                7  \n",
       "1        2.0      0     1      2                5  \n",
       "2        0.0      1     3      2                7  \n",
       "3        0.0      1     2      2                8  \n",
       "4        0.0      1     2      2                7  "
      ]
     },
     "execution_count": 51,
     "metadata": {},
     "output_type": "execute_result"
    }
   ],
   "source": [
    "test.head()"
   ]
  },
  {
   "cell_type": "code",
   "execution_count": 52,
   "metadata": {},
   "outputs": [
    {
     "data": {
      "text/plain": [
       "(393,)"
      ]
     },
     "execution_count": 52,
     "metadata": {},
     "output_type": "execute_result"
    }
   ],
   "source": [
    "Y_final = rf.predict(test_X)\n",
    "Y_final.shape"
   ]
  },
  {
   "cell_type": "code",
   "execution_count": 53,
   "metadata": {},
   "outputs": [
    {
     "name": "stdout",
     "output_type": "stream",
     "text": [
      "<class 'pandas.core.frame.DataFrame'>\n",
      "RangeIndex: 393 entries, 0 to 392\n",
      "Data columns (total 1 columns):\n",
      "Survived    393 non-null int64\n",
      "dtypes: int64(1)\n",
      "memory usage: 3.1 KB\n"
     ]
    }
   ],
   "source": [
    "result = pd.DataFrame(data = Y_final,columns=['Survived'])\n",
    "result.info()"
   ]
  },
  {
   "cell_type": "code",
   "execution_count": 54,
   "metadata": {},
   "outputs": [
    {
     "data": {
      "text/html": [
       "<div>\n",
       "<style scoped>\n",
       "    .dataframe tbody tr th:only-of-type {\n",
       "        vertical-align: middle;\n",
       "    }\n",
       "\n",
       "    .dataframe tbody tr th {\n",
       "        vertical-align: top;\n",
       "    }\n",
       "\n",
       "    .dataframe thead th {\n",
       "        text-align: right;\n",
       "    }\n",
       "</style>\n",
       "<table border=\"1\" class=\"dataframe\">\n",
       "  <thead>\n",
       "    <tr style=\"text-align: right;\">\n",
       "      <th></th>\n",
       "      <th>traveller_ID</th>\n",
       "    </tr>\n",
       "  </thead>\n",
       "  <tbody>\n",
       "    <tr>\n",
       "      <th>0</th>\n",
       "      <td>1148</td>\n",
       "    </tr>\n",
       "    <tr>\n",
       "      <th>1</th>\n",
       "      <td>1049</td>\n",
       "    </tr>\n",
       "    <tr>\n",
       "      <th>2</th>\n",
       "      <td>982</td>\n",
       "    </tr>\n",
       "    <tr>\n",
       "      <th>3</th>\n",
       "      <td>808</td>\n",
       "    </tr>\n",
       "    <tr>\n",
       "      <th>4</th>\n",
       "      <td>1195</td>\n",
       "    </tr>\n",
       "  </tbody>\n",
       "</table>\n",
       "</div>"
      ],
      "text/plain": [
       "   traveller_ID\n",
       "0          1148\n",
       "1          1049\n",
       "2           982\n",
       "3           808\n",
       "4          1195"
      ]
     },
     "execution_count": 54,
     "metadata": {},
     "output_type": "execute_result"
    }
   ],
   "source": [
    "test_passengerID = pd.DataFrame(data = test_passengerID,columns=['traveller_ID'])\n",
    "test_passengerID.head()"
   ]
  },
  {
   "cell_type": "code",
   "execution_count": 55,
   "metadata": {},
   "outputs": [],
   "source": [
    "submission = pd.concat([test_passengerID,result],axis=1)"
   ]
  },
  {
   "cell_type": "code",
   "execution_count": 56,
   "metadata": {},
   "outputs": [
    {
     "data": {
      "text/html": [
       "<div>\n",
       "<style scoped>\n",
       "    .dataframe tbody tr th:only-of-type {\n",
       "        vertical-align: middle;\n",
       "    }\n",
       "\n",
       "    .dataframe tbody tr th {\n",
       "        vertical-align: top;\n",
       "    }\n",
       "\n",
       "    .dataframe thead th {\n",
       "        text-align: right;\n",
       "    }\n",
       "</style>\n",
       "<table border=\"1\" class=\"dataframe\">\n",
       "  <thead>\n",
       "    <tr style=\"text-align: right;\">\n",
       "      <th></th>\n",
       "      <th>traveller_ID</th>\n",
       "      <th>Survived</th>\n",
       "    </tr>\n",
       "  </thead>\n",
       "  <tbody>\n",
       "    <tr>\n",
       "      <th>0</th>\n",
       "      <td>1148</td>\n",
       "      <td>1</td>\n",
       "    </tr>\n",
       "    <tr>\n",
       "      <th>1</th>\n",
       "      <td>1049</td>\n",
       "      <td>0</td>\n",
       "    </tr>\n",
       "    <tr>\n",
       "      <th>2</th>\n",
       "      <td>982</td>\n",
       "      <td>1</td>\n",
       "    </tr>\n",
       "    <tr>\n",
       "      <th>3</th>\n",
       "      <td>808</td>\n",
       "      <td>1</td>\n",
       "    </tr>\n",
       "    <tr>\n",
       "      <th>4</th>\n",
       "      <td>1195</td>\n",
       "      <td>1</td>\n",
       "    </tr>\n",
       "  </tbody>\n",
       "</table>\n",
       "</div>"
      ],
      "text/plain": [
       "   traveller_ID  Survived\n",
       "0          1148         1\n",
       "1          1049         0\n",
       "2           982         1\n",
       "3           808         1\n",
       "4          1195         1"
      ]
     },
     "execution_count": 56,
     "metadata": {},
     "output_type": "execute_result"
    }
   ],
   "source": [
    "submission.head()"
   ]
  },
  {
   "cell_type": "code",
   "execution_count": 57,
   "metadata": {},
   "outputs": [
    {
     "data": {
      "text/plain": [
       "1    252\n",
       "0    141\n",
       "Name: Survived, dtype: int64"
      ]
     },
     "execution_count": 57,
     "metadata": {},
     "output_type": "execute_result"
    }
   ],
   "source": [
    "submission['Survived'].value_counts()"
   ]
  },
  {
   "cell_type": "code",
   "execution_count": null,
   "metadata": {},
   "outputs": [],
   "source": []
  }
 ],
 "metadata": {
  "kernelspec": {
   "display_name": "Python 3",
   "language": "python",
   "name": "python3"
  },
  "language_info": {
   "codemirror_mode": {
    "name": "ipython",
    "version": 3
   },
   "file_extension": ".py",
   "mimetype": "text/x-python",
   "name": "python",
   "nbconvert_exporter": "python",
   "pygments_lexer": "ipython3",
   "version": "3.7.1"
  }
 },
 "nbformat": 4,
 "nbformat_minor": 2
}
